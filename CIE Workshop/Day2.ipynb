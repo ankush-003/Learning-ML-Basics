{
 "cells": [
  {
   "cell_type": "markdown",
   "source": [
    "# Normal Equation\n",
    "- Alternative to gradient descent\n",
    "- Normal equation formula: $\\theta = (X^TX)^{-1}X^Ty$\n",
    "- No need to choose $\\alpha$\n",
    "- Need to compute $(X^TX)^{-1}$, which is an $n+1 \\times n+1$ matrix. If $n$ is large, it will be slow."
   ],
   "metadata": {
    "collapsed": false
   }
  },
  {
   "cell_type": "markdown",
   "source": [
    "# Feature Scaling:\n",
    "- Mean Normalization:\n",
    "    - formula: $x_i = \\frac{x_i - \\mu_i}{s_i}$, where $\\mu_i$ is the mean of $x_i$ and $s_i$ is the range of $x_i$.\n",
    "- Z-score Normalization:\n",
    "    - formula: $x_i = \\frac{x_i - \\mu_i}{\\sigma_i}$, where $\\mu_i$ is the mean of $x_i$ and $\\sigma_i$ is the standard deviation of $x_i$."
   ],
   "metadata": {
    "collapsed": false
   }
  },
  {
   "cell_type": "markdown",
   "source": [
    "# Feature Engineering:\n",
    "- example: width and height of a house, we can create a new feature called area.\n",
    "- example: $x_1$ and $x_2$, we can create a new feature called $x_3 = x_1^2 + x_2^2$."
   ],
   "metadata": {
    "collapsed": false
   }
  },
  {
   "cell_type": "markdown",
   "source": [
    "# Polynomial Regression:\n",
    "- example: $h_\\theta(x) = \\theta_0 + \\theta_1x_1 + \\theta_2x_2^2 + \\theta_3x_3^3$\n",
    "- here $x_1$ is the original feature, $x_2$ is the square of $x_1$, $x_3$ is the cube of $x_1$.\n",
    "- this helps to fit a non-linear function by adding polynomial terms so that we can fit a curve."
   ],
   "metadata": {
    "collapsed": false
   }
  },
  {
   "cell_type": "markdown",
   "source": [
    "# Classification"
   ],
   "metadata": {
    "collapsed": false
   }
  },
  {
   "cell_type": "markdown",
   "source": [
    "## binary classification:\n",
    "- example: spam classification\n",
    "- $y = 0$ means not spam, $y = 1$ means spam\n",
    "- 0 is called the negative class, 1 is called the positive class\n",
    "- threshold: is the value that we use to separate the two classes"
   ],
   "metadata": {
    "collapsed": false
   }
  },
  {
   "cell_type": "markdown",
   "source": [
    "# Sigmoid Function:\n",
    "- $h_\\theta(x) = g(\\theta^Tx)$, where $g(z) = \\frac{1}{1+e^{-z}}$"
   ],
   "metadata": {
    "collapsed": false
   }
  },
  {
   "cell_type": "markdown",
   "source": [
    "# Logistic Regression Model:\n",
    "- $h_\\theta(x) = \\frac{1}{1+e^{-\\theta^Tx}}$"
   ],
   "metadata": {
    "collapsed": false
   }
  },
  {
   "cell_type": "markdown",
   "source": [
    "Bayesian Probability: P(A|B) = P(B|A)P(A)/P(B)"
   ],
   "metadata": {
    "collapsed": false
   }
  },
  {
   "cell_type": "markdown",
   "source": [
    "# Decision Boundary:\n",
    "- it is the line that separates the area where $y = 0$ and where $y = 1$"
   ],
   "metadata": {
    "collapsed": false
   }
  },
  {
   "cell_type": "markdown",
   "source": [
    "# Loss Function:\n",
    "- it is a function that tells us how good our model is at making predictions for a given value of $\\theta$\n",
    "- -log(x) is a convex function it is used in logistic regression so that we can use gradient descent to find the minimum of the function.\n",
    "- L(x) = -log(x) if y = 1, -log(1-x) if y = 0\n",
    "- Simplified Cost Function: L(x) = -ylog(h(x)) - (1-y)log(1-h(x))"
   ],
   "metadata": {
    "collapsed": false
   }
  },
  {
   "cell_type": "markdown",
   "source": [
    "# Problem of Overfitting:\n",
    "- Underfitting: it has high bias and low variance (high error on training set and high error on test set)\n",
    "- Best fitting: it has low bias and low variance (low error on training set and low error on test set)\n",
    "- Overfitting: it has low bias and high variance (low error on training set and high error on test set)\n",
    "- bias is the difference between the average prediction of our model and the correct value which we are trying to predict\n",
    "- variance is the variability of model prediction for a given data point"
   ],
   "metadata": {
    "collapsed": false
   }
  },
  {
   "cell_type": "code",
   "execution_count": null,
   "outputs": [],
   "source": [],
   "metadata": {
    "collapsed": false
   }
  }
 ],
 "metadata": {
  "kernelspec": {
   "display_name": "Python 3",
   "language": "python",
   "name": "python3"
  },
  "language_info": {
   "codemirror_mode": {
    "name": "ipython",
    "version": 2
   },
   "file_extension": ".py",
   "mimetype": "text/x-python",
   "name": "python",
   "nbconvert_exporter": "python",
   "pygments_lexer": "ipython2",
   "version": "2.7.6"
  }
 },
 "nbformat": 4,
 "nbformat_minor": 0
}
