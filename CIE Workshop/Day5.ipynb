{
 "cells": [
  {
   "attachments": {},
   "cell_type": "markdown",
   "metadata": {},
   "source": [
    "# Recommender Systems\n",
    "- multiple users\n",
    "- multiple items\n",
    "## Cost Function:\n",
    "- J = 1/2 * sum((theta.T * x - y)^2)\n",
    "- for user j, item i\n",
    "- $J = \\frac{1}{2} \\sum_{(i,j):r(i,j)=1} ((\\theta^{(j)})^T x^{(i)} - y^{(i,j)})^2 + \\frac{\\lambda}{2} \\sum_{j=1}^n \\sum_{k=1}^n (\\theta_k^{(j)})^2 + \\frac{\\lambda}{2} \\sum_{i=1}^n \\sum_{k=1}^n (x_k^{(i)})^2$\n",
    "## Collaborative Filtering\n",
    "- we have x and theta\n",
    "- iniitially we assume theta as random\n",
    "### Cost Function:\n",
    "- i: movies\n",
    "- j: users\n",
    "- Cost function to learn w, b:\n",
    "- $J(w,b) = \\frac{1}{2m} \\sum_{i=1}^m (h_w(x^{(i)}) - y^{(i)})^2 + \\frac{\\lambda}{2m} \\sum_{j=1}^n w_j^2$\n",
    "- Cost function to learn x:\n",
    "- $J(x^{(1)},...,x^{(n_m)}) = \\frac{1}{2} \\sum_{i=1}^m (h_w(x^{(i)}) - y^{(i)})^2 + \\frac{\\lambda}{2} \\sum_{i=1}^m \\sum_{k=1}^n (x_k^{(i)})^2$\n",
    "- Putting it together:\n",
    "- $J(x^{(1)},...,x^{(n_m)},\\theta^{(1)},...,\\theta^{(n_u)}) = \\frac{1}{2} \\sum_{(i,j):r(i,j)=1} ((\\theta^{(j)})^T x^{(i)} - y^{(i,j)})^2 + \\frac{\\lambda}{2} \\sum_{j=1}^{n_u} \\sum_{k=1}^{n} (\\theta_k^{(j)})^2 + \\frac{\\lambda}{2} \\sum_{i=1}^{n_m} \\sum_{k=1}^{n} (x_k^{(i)})^2$"
   ]
  },
  {
   "attachments": {},
   "cell_type": "markdown",
   "metadata": {},
   "source": [
    "## Binary Classification for Recommender Systems:\n",
    "- y = 1 if user rated movie, 0 otherwise\n",
    "- cost function:\n",
    "- $J(x^{(1)},...,x^{(n_m)},\\theta^{(1)},...,\\theta^{(n_u)}) = \\frac{1}{2} \\sum_{(i,j):r(i,j)=1} ((\\theta^{(j)})^T x^{(i)} - y^{(i,j)})^2 + \\frac{\\lambda}{2} \\sum_{j=1}^{n_u} \\sum_{k=1}^{n} (\\theta_k^{(j)})^2 + \\frac{\\lambda}{2} \\sum_{i=1}^{n_m} \\sum_{k=1}^{n} (x_k^{(i)})^2$\n",
    "- Loss function for binary classification:\n",
    "- $Loss(h_\\theta(x),y) = -y log(h_\\theta(x)) - (1-y) log(1-h_\\theta(x))$"
   ]
  },
  {
   "attachments": {},
   "cell_type": "markdown",
   "metadata": {},
   "source": [
    "### Mean Normalisation:\n",
    "- $x_k^{(i)} = x_k^{(i)} - \\mu_k$\n",
    "- it is better than feature scaling as it is not affected by outliers, and it is not affected by different scales of different features\n"
   ]
  },
  {
   "attachments": {},
   "cell_type": "markdown",
   "metadata": {},
   "source": [
    "## TensorFlow Implementation:\n",
    "### Custom Training Loop:\n",
    "- for example we are finding optimum values of w assuming b = 0\n",
    "- we can use GradientTape() to find the gradients of the cost function wrt w\n",
    "- GradientTape() finds the gradients of the cost function wrt all the variables\n",
    "- then we can use optimizer.apply_gradients() to update the values of w\n",
    "```python\n",
    "w = tf.Variable(0.0)\n",
    "optimizer = tf.keras.optimizers.Adam(0.1)\n",
    "for i in range(1000):\n",
    "    with tf.GradientTape() as tape:\n",
    "        cost = tf.square(w-5)\n",
    "    grads = tape.gradient(cost, [w])\n",
    "    optimizer.apply_gradients(zip(grads, [w]))\n",
    "```\n",
    "## Finding related items:\n",
    "- we can use cosine similarity to find the similarity between two items\n",
    "- $similarity = cos(\\theta) = \\frac{A.B}{||A|| ||B||}$\n",
    "- we can use the distance between two items to find the similarity between them\n",
    "- $similarity = \\frac{1}{distance}$\n"
   ]
  },
  {
   "attachments": {},
   "cell_type": "markdown",
   "metadata": {},
   "source": [
    "# Collaborative Filtering vs Content-Based Filtering:\n",
    "### Content-Based Filtering:\n",
    "- we have features of the items\n",
    "- we can use these features to find the similarity between the items\n",
    "- we can use this similarity to recommend items to the user\n",
    "### Collaborative Filtering:\n",
    "- we have the ratings of the users for the items\n",
    "- we can use these ratings to find the similarity between the items\n",
    "- we can use this similarity to recommend items to the user"
   ]
  },
  {
   "attachments": {},
   "cell_type": "markdown",
   "metadata": {},
   "source": [
    "## Deep Learning for Content-Based Filtering:\n",
    "- we can use a neural network to find the similarity between the items\n",
    "- Xu = features of users\n",
    "- Xm = features of movies\n",
    "- in $w^j * x^i + b^j$ -> we use Xu as w and Xm as x\n",
    "### Cost Function:\n",
    "- $J(x^{(1)},...,x^{(n_m)},\\theta^{(1)},...,\\theta^{(n_u)}) = \\frac{1}{2} \\sum_{(i,j):r(i,j)=1} ((\\theta^{(j)})^T x^{(i)} - y^{(i,j)})^2 + \\frac{\\lambda}{2} \\sum_{j=1}^{n_u} \\sum_{k=1}^{n} (\\theta_k^{(j)})^2 + \\frac{\\lambda}{2} \\sum_{i=1}^{n_m} \\sum_{k=1}^{n} (x_k^{(i)})^2$\n",
    "### Recommendation:\n",
    " two steps: \n",
    "- Retrieval - generate large list of plausible item candidates based on movie features\n",
    "- Ranking - rank the plausible candidates based on user features"
   ]
  }
 ],
 "metadata": {
  "language_info": {
   "name": "python"
  },
  "orig_nbformat": 4
 },
 "nbformat": 4,
 "nbformat_minor": 2
}
