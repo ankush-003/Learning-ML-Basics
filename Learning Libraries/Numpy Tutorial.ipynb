{
 "cells": [
  {
   "cell_type": "markdown",
   "id": "8add2feb",
   "metadata": {},
   "source": [
    "# Numpy Tutorial"
   ]
  },
  {
   "cell_type": "code",
   "execution_count": 1,
   "id": "320ef893",
   "metadata": {},
   "outputs": [],
   "source": [
    "import numpy as np"
   ]
  },
  {
   "cell_type": "code",
   "execution_count": 2,
   "id": "f61ee1b3",
   "metadata": {},
   "outputs": [
    {
     "data": {
      "text/plain": [
       "array([1, 2, 3, 4, 5])"
      ]
     },
     "execution_count": 2,
     "metadata": {},
     "output_type": "execute_result"
    }
   ],
   "source": [
    "# dtypes: np.int8, np.int32, np.int64\n",
    "myarray = np.array([1,2,3,4,5],np.int32)\n",
    "myarray"
   ]
  },
  {
   "cell_type": "code",
   "execution_count": 3,
   "id": "a6e97543",
   "metadata": {},
   "outputs": [
    {
     "data": {
      "text/plain": [
       "3"
      ]
     },
     "execution_count": 3,
     "metadata": {},
     "output_type": "execute_result"
    }
   ],
   "source": [
    "myarr1 = np.array([[1,2,3]])\n",
    "myarr1[0,2]"
   ]
  },
  {
   "cell_type": "code",
   "execution_count": 4,
   "id": "5b4fe3a1",
   "metadata": {},
   "outputs": [
    {
     "name": "stdout",
     "output_type": "stream",
     "text": [
      "myarr1 shape (1, 3) data type int32\n"
     ]
    }
   ],
   "source": [
    "print(\"myarr1 shape {} data type {}\".format(myarr1.shape,myarr1.dtype))"
   ]
  },
  {
   "cell_type": "markdown",
   "id": "3e8fb850",
   "metadata": {},
   "source": [
    "## Array Creation from **Python Objects**"
   ]
  },
  {
   "cell_type": "code",
   "execution_count": 5,
   "id": "af8dd888",
   "metadata": {},
   "outputs": [],
   "source": [
    "listArr = np.array([[1,2,3],[4,5,6],[7,8,9]])"
   ]
  },
  {
   "cell_type": "code",
   "execution_count": 6,
   "id": "9953a12a",
   "metadata": {},
   "outputs": [
    {
     "data": {
      "text/plain": [
       "array([{'a': 1, 'b': 2}, {'a': 3, 'b': 4}], dtype=object)"
      ]
     },
     "execution_count": 6,
     "metadata": {},
     "output_type": "execute_result"
    }
   ],
   "source": [
    "# for efficiency we only use int and float arrays\n",
    "dictArr = np.array([{'a':1,'b':2},{'a':3,'b':4}])\n",
    "dictArr"
   ]
  },
  {
   "cell_type": "code",
   "execution_count": 7,
   "id": "62630580",
   "metadata": {},
   "outputs": [
    {
     "name": "stdout",
     "output_type": "stream",
     "text": [
      "[[0. 0. 0. 0.]\n",
      " [0. 0. 0. 0.]\n",
      " [0. 0. 0. 0.]] float64\n"
     ]
    }
   ],
   "source": [
    "zeros = np.zeros((3,4))\n",
    "print(zeros, zeros.dtype)"
   ]
  },
  {
   "cell_type": "code",
   "execution_count": 8,
   "id": "6f5906a9",
   "metadata": {},
   "outputs": [
    {
     "name": "stdout",
     "output_type": "stream",
     "text": [
      "[0 1 2 3 4 5 6 7 8 9] int32\n"
     ]
    }
   ],
   "source": [
    "rng = np.arange(10)\n",
    "print(rng, rng.dtype)"
   ]
  },
  {
   "cell_type": "code",
   "execution_count": 9,
   "id": "c0a98550",
   "metadata": {},
   "outputs": [
    {
     "name": "stdout",
     "output_type": "stream",
     "text": [
      "[ 0.   2.5  5.   7.5 10. ] float64\n"
     ]
    }
   ],
   "source": [
    "# np.linespace is similar to np.arange but it takes the number of elements\n",
    "lspace = np.linspace(0,10,5)\n",
    "print(lspace, lspace.dtype)"
   ]
  },
  {
   "cell_type": "code",
   "execution_count": 10,
   "id": "e71b91bb",
   "metadata": {},
   "outputs": [
    {
     "data": {
      "text/plain": [
       "array([[0., 0., 0., 0.],\n",
       "       [0., 0., 0., 0.],\n",
       "       [0., 0., 0., 0.]])"
      ]
     },
     "execution_count": 10,
     "metadata": {},
     "output_type": "execute_result"
    }
   ],
   "source": [
    "# np.empty creates an array with random values\n",
    "emp = np.empty((3,4))\n",
    "emp"
   ]
  },
  {
   "cell_type": "code",
   "execution_count": 11,
   "id": "7dcd74bf",
   "metadata": {},
   "outputs": [
    {
     "name": "stdout",
     "output_type": "stream",
     "text": [
      "[ 0.   2.5  5.   7.5 10. ] float64\n"
     ]
    }
   ],
   "source": [
    "# empty_like creates an array with random values of the same shape as the input array\n",
    "emp_like = np.empty_like(lspace)\n",
    "print(emp_like, emp_like.dtype)"
   ]
  },
  {
   "cell_type": "code",
   "execution_count": 12,
   "id": "c71399ab",
   "metadata": {},
   "outputs": [
    {
     "name": "stdout",
     "output_type": "stream",
     "text": [
      "[[1. 0. 0. 0. 0.]\n",
      " [0. 1. 0. 0. 0.]\n",
      " [0. 0. 1. 0. 0.]\n",
      " [0. 0. 0. 1. 0.]\n",
      " [0. 0. 0. 0. 1.]] float64 (5, 5)\n"
     ]
    }
   ],
   "source": [
    "# np.identity creates an identity matrix\n",
    "iden = np.identity(5)\n",
    "print(iden, iden.dtype,iden.shape)"
   ]
  },
  {
   "cell_type": "markdown",
   "id": "6587ed33",
   "metadata": {},
   "source": [
    "## Reshaping Arrays"
   ]
  },
  {
   "cell_type": "code",
   "execution_count": 13,
   "id": "e9aa79b5",
   "metadata": {},
   "outputs": [
    {
     "name": "stdout",
     "output_type": "stream",
     "text": [
      "[ 0  1  2  3  4  5  6  7  8  9 10 11 12 13 14 15 16 17 18 19 20 21 22 23\n",
      " 24 25 26 27 28 29 30 31 32 33 34 35 36 37 38 39 40 41 42 43 44 45 46 47\n",
      " 48 49] (50,)\n"
     ]
    }
   ],
   "source": [
    "arr = np.arange(50)\n",
    "print(arr, arr.shape)"
   ]
  },
  {
   "cell_type": "code",
   "execution_count": 14,
   "id": "ef772429",
   "metadata": {},
   "outputs": [
    {
     "name": "stdout",
     "output_type": "stream",
     "text": [
      "[[ 0  1  2  3  4  5  6  7  8  9]\n",
      " [10 11 12 13 14 15 16 17 18 19]\n",
      " [20 21 22 23 24 25 26 27 28 29]\n",
      " [30 31 32 33 34 35 36 37 38 39]\n",
      " [40 41 42 43 44 45 46 47 48 49]] (5, 10)\n"
     ]
    }
   ],
   "source": [
    "# number of elements must be equal to the number of elements in the array\n",
    "arr = arr.reshape(5,10)\n",
    "print(arr, arr.shape)"
   ]
  },
  {
   "cell_type": "code",
   "execution_count": 15,
   "id": "09b8f18a",
   "metadata": {},
   "outputs": [
    {
     "name": "stdout",
     "output_type": "stream",
     "text": [
      "[ 0  1  2  3  4  5  6  7  8  9 10 11 12 13 14 15 16 17 18 19 20 21 22 23\n",
      " 24 25 26 27 28 29 30 31 32 33 34 35 36 37 38 39 40 41 42 43 44 45 46 47\n",
      " 48 49] (50,)\n"
     ]
    }
   ],
   "source": [
    "# np.ravel flattens the array\n",
    "arr = arr.ravel()\n",
    "print(arr, arr.shape)"
   ]
  },
  {
   "cell_type": "code",
   "execution_count": 16,
   "id": "1a8a7d98",
   "metadata": {},
   "outputs": [
    {
     "data": {
      "text/plain": [
       "array([[1, 2, 3],\n",
       "       [4, 5, 6],\n",
       "       [7, 8, 9]])"
      ]
     },
     "execution_count": 16,
     "metadata": {},
     "output_type": "execute_result"
    }
   ],
   "source": [
    "x = [[1,2,3],[4,5,6],[7,8,9]]\n",
    "ar = np.array(x)\n",
    "ar"
   ]
  },
  {
   "cell_type": "code",
   "execution_count": 17,
   "id": "3bebda2e",
   "metadata": {},
   "outputs": [
    {
     "name": "stdout",
     "output_type": "stream",
     "text": [
      "row sum:  [ 6 15 24]\n",
      "column sum:  [12 15 18]\n"
     ]
    }
   ],
   "source": [
    "# axis = 0 is the rows\n",
    "# axis = 1 is the columns\n",
    "print(\"row sum: \",ar.sum(axis=1))\n",
    "print(\"column sum: \",ar.sum(axis=0))"
   ]
  },
  {
   "cell_type": "code",
   "execution_count": 18,
   "id": "dd77fad3",
   "metadata": {},
   "outputs": [
    {
     "name": "stdout",
     "output_type": "stream",
     "text": [
      "transpose:  [[1 4 7]\n",
      " [2 5 8]\n",
      " [3 6 9]]\n"
     ]
    }
   ],
   "source": [
    "print(\"transpose: \",ar.T)"
   ]
  },
  {
   "cell_type": "code",
   "execution_count": 19,
   "id": "b2af1acb",
   "metadata": {},
   "outputs": [
    {
     "name": "stdout",
     "output_type": "stream",
     "text": [
      "flatten:  [1 2 3 4 5 6 7 8 9]\n",
      "1 2 3 4 5 6 7 8 9 "
     ]
    }
   ],
   "source": [
    "print(\"flatten: \",ar.flatten())\n",
    "for i in ar.flatten():\n",
    "    print(i,end=\" \")"
   ]
  },
  {
   "cell_type": "code",
   "execution_count": 20,
   "id": "33404b66",
   "metadata": {},
   "outputs": [
    {
     "name": "stdout",
     "output_type": "stream",
     "text": [
      "number of dimensions:  2\n"
     ]
    }
   ],
   "source": [
    "print(\"number of dimensions: \",ar.ndim)"
   ]
  },
  {
   "cell_type": "code",
   "execution_count": 21,
   "id": "99e1d066",
   "metadata": {},
   "outputs": [
    {
     "name": "stdout",
     "output_type": "stream",
     "text": [
      "number of elements:  9\n"
     ]
    }
   ],
   "source": [
    "print(\"number of elements: \",ar.size)"
   ]
  },
  {
   "cell_type": "code",
   "execution_count": 22,
   "id": "1a9e2b98",
   "metadata": {},
   "outputs": [
    {
     "name": "stdout",
     "output_type": "stream",
     "text": [
      "total bytes:  36\n"
     ]
    }
   ],
   "source": [
    "print(\"total bytes: \",ar.nbytes)"
   ]
  },
  {
   "cell_type": "code",
   "execution_count": 23,
   "id": "88a40954",
   "metadata": {},
   "outputs": [
    {
     "name": "stdout",
     "output_type": "stream",
     "text": [
      "[[1. 1. 1. 1.]\n",
      " [1. 1. 1. 1.]\n",
      " [1. 1. 1. 1.]]\n"
     ]
    }
   ],
   "source": [
    "one = np.ones((3,4))\n",
    "print(one)"
   ]
  },
  {
   "cell_type": "code",
   "execution_count": 24,
   "id": "ccaa1287",
   "metadata": {},
   "outputs": [
    {
     "name": "stdout",
     "output_type": "stream",
     "text": [
      "index of max:  3\n",
      "max element 33\n",
      "index of min:  0\n",
      "min element 1\n"
     ]
    }
   ],
   "source": [
    "ar1 = np.array([1,2,3,33,9,12])\n",
    "print(\"index of max: \",ar1.argmax())\n",
    "print(\"max element\",ar1[ar1.argmax()])\n",
    "print(\"index of min: \",ar1.argmin())\n",
    "print(\"min element\",ar1[ar1.argmin()])"
   ]
  },
  {
   "cell_type": "code",
   "execution_count": 25,
   "id": "f7862c8f",
   "metadata": {},
   "outputs": [
    {
     "data": {
      "text/plain": [
       "array([0, 1, 2, 4, 5, 3], dtype=int64)"
      ]
     },
     "execution_count": 25,
     "metadata": {},
     "output_type": "execute_result"
    }
   ],
   "source": [
    "# gives the index elements of the array that satisfy the condition\n",
    "ar1.argsort()"
   ]
  },
  {
   "cell_type": "code",
   "execution_count": 26,
   "id": "ff44cba8",
   "metadata": {},
   "outputs": [
    {
     "name": "stdout",
     "output_type": "stream",
     "text": [
      "[[1 2 3]\n",
      " [4 5 6]\n",
      " [7 8 9]]\n",
      "index of max:  8\n"
     ]
    }
   ],
   "source": [
    "# for 2d arrays\n",
    "print(ar)\n",
    "print(\"index of max: \",ar.argmax())"
   ]
  },
  {
   "cell_type": "code",
   "execution_count": 27,
   "id": "94054f4a",
   "metadata": {},
   "outputs": [
    {
     "name": "stdout",
     "output_type": "stream",
     "text": [
      "index of max along axis 0: (column max) [2 2 2]\n"
     ]
    }
   ],
   "source": [
    "print(\"index of max along axis 0: (column max)\",ar.argmax(axis=0))"
   ]
  },
  {
   "cell_type": "code",
   "execution_count": 28,
   "id": "9a439b80",
   "metadata": {},
   "outputs": [
    {
     "name": "stdout",
     "output_type": "stream",
     "text": [
      "index of max along axis 1: (row max) [2 2 2]\n"
     ]
    }
   ],
   "source": [
    "print(\"index of max along axis 1: (row max)\",ar.argmax(axis=1))"
   ]
  },
  {
   "cell_type": "code",
   "execution_count": 29,
   "id": "42f743ad",
   "metadata": {},
   "outputs": [
    {
     "data": {
      "text/plain": [
       "array([[0, 1, 2],\n",
       "       [0, 1, 2],\n",
       "       [0, 1, 2]], dtype=int64)"
      ]
     },
     "execution_count": 29,
     "metadata": {},
     "output_type": "execute_result"
    }
   ],
   "source": [
    "ar.argsort()"
   ]
  },
  {
   "cell_type": "code",
   "execution_count": 30,
   "id": "3b9c9043",
   "metadata": {},
   "outputs": [
    {
     "data": {
      "text/plain": [
       "array([1, 2, 3, 4, 5, 6, 7, 8, 9])"
      ]
     },
     "execution_count": 30,
     "metadata": {},
     "output_type": "execute_result"
    }
   ],
   "source": [
    "ar.ravel()"
   ]
  },
  {
   "cell_type": "code",
   "execution_count": 31,
   "id": "26aab330",
   "metadata": {},
   "outputs": [
    {
     "data": {
      "text/plain": [
       "array([1, 2, 3, 4, 5, 6, 7, 8, 9])"
      ]
     },
     "execution_count": 31,
     "metadata": {},
     "output_type": "execute_result"
    }
   ],
   "source": [
    "ar.flatten()"
   ]
  },
  {
   "cell_type": "code",
   "execution_count": 32,
   "id": "b2848cf1",
   "metadata": {},
   "outputs": [
    {
     "data": {
      "text/plain": [
       "array([[1],\n",
       "       [2],\n",
       "       [3],\n",
       "       [4],\n",
       "       [5],\n",
       "       [6],\n",
       "       [7],\n",
       "       [8],\n",
       "       [9]])"
      ]
     },
     "execution_count": 32,
     "metadata": {},
     "output_type": "execute_result"
    }
   ],
   "source": [
    "ar.reshape(9,1)"
   ]
  },
  {
   "cell_type": "code",
   "execution_count": 33,
   "id": "46d5022a",
   "metadata": {},
   "outputs": [
    {
     "data": {
      "text/plain": [
       "array([[1, 4, 7],\n",
       "       [2, 5, 8],\n",
       "       [3, 6, 9]])"
      ]
     },
     "execution_count": 33,
     "metadata": {},
     "output_type": "execute_result"
    }
   ],
   "source": [
    "art = ar.T\n",
    "art"
   ]
  },
  {
   "cell_type": "code",
   "execution_count": 34,
   "id": "7dac77e8",
   "metadata": {},
   "outputs": [
    {
     "data": {
      "text/plain": [
       "array([[ 2,  6, 10],\n",
       "       [ 6, 10, 14],\n",
       "       [10, 14, 18]])"
      ]
     },
     "execution_count": 34,
     "metadata": {},
     "output_type": "execute_result"
    }
   ],
   "source": [
    "ar + art"
   ]
  },
  {
   "cell_type": "code",
   "execution_count": 35,
   "id": "d21950a1",
   "metadata": {},
   "outputs": [
    {
     "data": {
      "text/plain": [
       "[1, 2, 3, 4, 5, 6]"
      ]
     },
     "execution_count": 35,
     "metadata": {},
     "output_type": "execute_result"
    }
   ],
   "source": [
    "# extend the list\n",
    "[1,2,3] + [4,5,6]"
   ]
  },
  {
   "cell_type": "code",
   "execution_count": 36,
   "id": "318b582b",
   "metadata": {},
   "outputs": [
    {
     "data": {
      "text/plain": [
       "array([[ 1,  8, 21],\n",
       "       [ 8, 25, 48],\n",
       "       [21, 48, 81]])"
      ]
     },
     "execution_count": 36,
     "metadata": {},
     "output_type": "execute_result"
    }
   ],
   "source": [
    "ar * art"
   ]
  },
  {
   "cell_type": "code",
   "execution_count": 37,
   "id": "dbc1efda",
   "metadata": {},
   "outputs": [
    {
     "data": {
      "text/plain": [
       "array([[1.        , 1.41421356, 1.73205081],\n",
       "       [2.        , 2.23606798, 2.44948974],\n",
       "       [2.64575131, 2.82842712, 3.        ]])"
      ]
     },
     "execution_count": 37,
     "metadata": {},
     "output_type": "execute_result"
    }
   ],
   "source": [
    "np.sqrt(ar)"
   ]
  },
  {
   "cell_type": "code",
   "execution_count": 38,
   "id": "6d31608a",
   "metadata": {},
   "outputs": [
    {
     "name": "stdout",
     "output_type": "stream",
     "text": [
      "sum of all elements:  45\n",
      "max of all elements:  9\n"
     ]
    }
   ],
   "source": [
    "print(\"sum of all elements: \",ar.sum())\n",
    "print(\"max of all elements: \",ar.max())"
   ]
  },
  {
   "cell_type": "code",
   "execution_count": 39,
   "id": "cfa30b9a",
   "metadata": {},
   "outputs": [
    {
     "name": "stdout",
     "output_type": "stream",
     "text": [
      "[[1 2 3]\n",
      " [4 5 6]\n",
      " [7 8 9]]\n",
      "(array([1, 1, 2, 2, 2], dtype=int64), array([1, 2, 0, 1, 2], dtype=int64))\n"
     ]
    }
   ],
   "source": [
    "#finding elements in an array\n",
    "# np.where returns the index of the elements that satisfy the condition\n",
    "print(ar)\n",
    "print(np.where(ar>=5))"
   ]
  },
  {
   "cell_type": "code",
   "execution_count": 40,
   "id": "9f4dea85",
   "metadata": {},
   "outputs": [
    {
     "data": {
      "text/plain": [
       "9"
      ]
     },
     "execution_count": 40,
     "metadata": {},
     "output_type": "execute_result"
    }
   ],
   "source": [
    "np.count_nonzero(ar)"
   ]
  },
  {
   "cell_type": "code",
   "execution_count": 41,
   "id": "f2077c0b",
   "metadata": {},
   "outputs": [
    {
     "data": {
      "text/plain": [
       "(array([0, 0, 0, 1, 1, 1, 2, 2, 2], dtype=int64),\n",
       " array([0, 1, 2, 0, 1, 2, 0, 1, 2], dtype=int64))"
      ]
     },
     "execution_count": 41,
     "metadata": {},
     "output_type": "execute_result"
    }
   ],
   "source": [
    "np.nonzero(ar)"
   ]
  },
  {
   "cell_type": "code",
   "execution_count": 42,
   "id": "1afd1bd7",
   "metadata": {},
   "outputs": [],
   "source": [
    "import sys"
   ]
  },
  {
   "cell_type": "code",
   "execution_count": 43,
   "id": "aea93679",
   "metadata": {},
   "outputs": [],
   "source": [
    "np_ar = np.arange(1000)"
   ]
  },
  {
   "cell_type": "code",
   "execution_count": 44,
   "id": "c81eb26f",
   "metadata": {},
   "outputs": [],
   "source": [
    "py_ar = list(range(1000))"
   ]
  },
  {
   "cell_type": "code",
   "execution_count": 45,
   "id": "deb50993",
   "metadata": {},
   "outputs": [
    {
     "name": "stdout",
     "output_type": "stream",
     "text": [
      "numpy array size:  4112\n",
      "python array size:  8056\n"
     ]
    }
   ],
   "source": [
    "# numpy array is more efficient\n",
    "print(\"numpy array size: \",sys.getsizeof(np_ar))\n",
    "print(\"python array size: \",sys.getsizeof(py_ar))"
   ]
  },
  {
   "cell_type": "code",
   "execution_count": 46,
   "id": "2db0fb5d",
   "metadata": {},
   "outputs": [
    {
     "data": {
      "text/plain": [
       "24000"
      ]
     },
     "execution_count": 46,
     "metadata": {},
     "output_type": "execute_result"
    }
   ],
   "source": [
    "sys.getsizeof(py_ar[0]) * len(py_ar)"
   ]
  },
  {
   "cell_type": "code",
   "execution_count": 47,
   "id": "a6d11bb4",
   "metadata": {},
   "outputs": [
    {
     "data": {
      "text/plain": [
       "4000"
      ]
     },
     "execution_count": 47,
     "metadata": {},
     "output_type": "execute_result"
    }
   ],
   "source": [
    "np_ar.itemsize * np_ar.size"
   ]
  },
  {
   "cell_type": "code",
   "execution_count": 48,
   "id": "44ace80e",
   "metadata": {},
   "outputs": [
    {
     "name": "stdout",
     "output_type": "stream",
     "text": [
      "[[1, 2, 3], [4, 5, 6], [7, 8, 9]] <class 'list'>\n",
      "<class 'numpy.ndarray'>\n"
     ]
    }
   ],
   "source": [
    "# tolist converts the numpy array to a python list\n",
    "print(ar.tolist(),type(ar.tolist()))\n",
    "print(type(ar))"
   ]
  },
  {
   "cell_type": "markdown",
   "id": "421cdbf8",
   "metadata": {},
   "source": [
    "Reference: \n",
    "- [codewithharry.com](https://www.youtube.com/watch?v=Rbh1rieb3zc)\n",
    "- [numy docs](https://numpy.org/doc/stable/reference/arrays.ndarray.html)\n"
   ]
  }
 ],
 "metadata": {
  "kernelspec": {
   "display_name": "Python 3.10.7 64-bit",
   "language": "python",
   "name": "python3"
  },
  "language_info": {
   "codemirror_mode": {
    "name": "ipython",
    "version": 3
   },
   "file_extension": ".py",
   "mimetype": "text/x-python",
   "name": "python",
   "nbconvert_exporter": "python",
   "pygments_lexer": "ipython3",
   "version": "3.10.7"
  },
  "vscode": {
   "interpreter": {
    "hash": "06d27cae120c8794265ed279269c4c44da5cbce9399fe3541c085bdf7bc3ff29"
   }
  }
 },
 "nbformat": 4,
 "nbformat_minor": 5
}
