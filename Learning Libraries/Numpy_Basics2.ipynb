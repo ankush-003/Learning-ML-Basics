{
 "cells": [
  {
   "cell_type": "code",
   "execution_count": 2,
   "id": "55e8075e",
   "metadata": {},
   "outputs": [
    {
     "name": "stdout",
     "output_type": "stream",
     "text": [
      "<class 'numpy.ndarray'>\n",
      "[[   1    2    3    4    5    6]\n",
      " [   1  124 4343   45   69   70]]\n"
     ]
    }
   ],
   "source": [
    "import numpy as np\n",
    "array1 = np.array([[1,2,3.0,4,5,6],[1,124,4343,45,69,70]],dtype='int32')\n",
    "print(type(array1)) # n dimensional array\n",
    "print(array1)"
   ]
  },
  {
   "cell_type": "code",
   "execution_count": 4,
   "id": "76d0be84",
   "metadata": {},
   "outputs": [
    {
     "name": "stdout",
     "output_type": "stream",
     "text": [
      "(2, 6)\n",
      "int32\n",
      "[[   1    2    3    4    5    6]\n",
      " [   1  124 4343   45   69   70]]\n"
     ]
    }
   ],
   "source": [
    "print(array1.shape)\n",
    "print(array1.dtype)\n",
    "print(array1)"
   ]
  },
  {
   "cell_type": "code",
   "execution_count": 3,
   "id": "ef693ac4",
   "metadata": {},
   "outputs": [
    {
     "data": {
      "text/plain": [
       "array([[0., 0., 0., 0., 0., 0.],\n",
       "       [0., 0., 0., 0., 0., 0.],\n",
       "       [0., 0., 0., 0., 0., 0.],\n",
       "       [0., 0., 0., 0., 0., 0.]])"
      ]
     },
     "execution_count": 3,
     "metadata": {},
     "output_type": "execute_result"
    }
   ],
   "source": [
    "# np.zeros(4)\n",
    "np.zeros((4,6)) #creates 4x6 array"
   ]
  },
  {
   "cell_type": "code",
   "execution_count": 4,
   "id": "61d7075c",
   "metadata": {},
   "outputs": [
    {
     "name": "stdout",
     "output_type": "stream",
     "text": [
      "[[1. 1. 1. 1. 1. 1.]\n",
      " [1. 1. 1. 1. 1. 1.]\n",
      " [1. 1. 1. 1. 1. 1.]\n",
      " [1. 1. 1. 1. 1. 1.]]\n",
      "type is: float64\n"
     ]
    }
   ],
   "source": [
    "arr2 = np.ones((4,6))\n",
    "print(arr2,\"type is: \" + str(arr2.dtype),sep='\\n')"
   ]
  },
  {
   "cell_type": "code",
   "execution_count": 5,
   "id": "cd0f8175",
   "metadata": {},
   "outputs": [
    {
     "data": {
      "text/plain": [
       "array([[4.64152150e-310, 0.00000000e+000],\n",
       "       [4.64212473e-310, 4.64212479e-310]])"
      ]
     },
     "execution_count": 5,
     "metadata": {},
     "output_type": "execute_result"
    }
   ],
   "source": [
    "np.empty((2,2)) # all elements need not be zeroes can be garbage values also"
   ]
  },
  {
   "cell_type": "code",
   "execution_count": 6,
   "id": "6e80b1b4",
   "metadata": {},
   "outputs": [],
   "source": [
    "array = np.array([[1,2,3,4,5],[6,7,8,9,10]])"
   ]
  },
  {
   "cell_type": "code",
   "execution_count": 7,
   "id": "33385596",
   "metadata": {},
   "outputs": [
    {
     "name": "stdout",
     "output_type": "stream",
     "text": [
      "[[  1   4   9  16  25]\n",
      " [ 36  49  64  81 100]]\n",
      "[[0 0 0 0 0]\n",
      " [0 0 0 0 0]]\n",
      "[[ 2  4  6  8 10]\n",
      " [12 14 16 18 20]]\n"
     ]
    }
   ],
   "source": [
    "print(array * array) # not matrix multiplication but element wise\n",
    "print(array - array)\n",
    "print(array + array)"
   ]
  },
  {
   "cell_type": "code",
   "execution_count": 8,
   "id": "ec8d99f5",
   "metadata": {},
   "outputs": [
    {
     "data": {
      "text/plain": [
       "array([[1.        , 0.5       , 0.33333333, 0.25      , 0.2       ],\n",
       "       [0.16666667, 0.14285714, 0.125     , 0.11111111, 0.1       ]])"
      ]
     },
     "execution_count": 8,
     "metadata": {},
     "output_type": "execute_result"
    }
   ],
   "source": [
    "1/array"
   ]
  },
  {
   "cell_type": "code",
   "execution_count": 9,
   "id": "c1ac09b7",
   "metadata": {},
   "outputs": [
    {
     "data": {
      "text/plain": [
       "array([3.83375999e+21])"
      ]
     },
     "execution_count": 9,
     "metadata": {},
     "output_type": "execute_result"
    }
   ],
   "source": [
    "np.array([12.0**20])"
   ]
  },
  {
   "cell_type": "markdown",
   "id": "8d9c5ebe",
   "metadata": {},
   "source": [
    "## Slicing"
   ]
  },
  {
   "cell_type": "code",
   "execution_count": 10,
   "id": "85cf3399",
   "metadata": {},
   "outputs": [],
   "source": [
    "array2 = np.array([1,2,3,4,5,6])\n"
   ]
  },
  {
   "cell_type": "code",
   "execution_count": 11,
   "id": "997d44d0",
   "metadata": {},
   "outputs": [],
   "source": [
    "arr = array2[2:4]"
   ]
  },
  {
   "cell_type": "code",
   "execution_count": 12,
   "id": "efa5c998",
   "metadata": {},
   "outputs": [
    {
     "name": "stdout",
     "output_type": "stream",
     "text": [
      "[1 2 3 4 5 6] [3 4]\n"
     ]
    }
   ],
   "source": [
    "print(array2,arr)"
   ]
  },
  {
   "cell_type": "code",
   "execution_count": 13,
   "id": "ac3344ac",
   "metadata": {},
   "outputs": [
    {
     "name": "stdout",
     "output_type": "stream",
     "text": [
      "[ 1  2  3 69  5  6] [ 3 69]\n"
     ]
    }
   ],
   "source": [
    "arr[1] = 69\n",
    "print(array2,arr)"
   ]
  },
  {
   "cell_type": "code",
   "execution_count": 14,
   "id": "be8b484b",
   "metadata": {},
   "outputs": [],
   "source": [
    "arrCpy = array2[2:4].copy()"
   ]
  },
  {
   "cell_type": "code",
   "execution_count": 15,
   "id": "152d0e84",
   "metadata": {},
   "outputs": [
    {
     "name": "stdout",
     "output_type": "stream",
     "text": [
      "[ 1  2  3 69  5  6] [ 3 70]\n"
     ]
    }
   ],
   "source": [
    "arrCpy[1] = 70\n",
    "print(array2,arrCpy)"
   ]
  },
  {
   "cell_type": "code",
   "execution_count": null,
   "id": "1ddc70f5",
   "metadata": {},
   "outputs": [],
   "source": []
  }
 ],
 "metadata": {
  "kernelspec": {
   "display_name": "Python 3.10.7 64-bit",
   "language": "python",
   "name": "python3"
  },
  "language_info": {
   "codemirror_mode": {
    "name": "ipython",
    "version": 3
   },
   "file_extension": ".py",
   "mimetype": "text/x-python",
   "name": "python",
   "nbconvert_exporter": "python",
   "pygments_lexer": "ipython3",
   "version": "3.10.7"
  },
  "vscode": {
   "interpreter": {
    "hash": "916dbcbb3f70747c44a77c7bcd40155683ae19c65e1c03b4aa3499c5328201f1"
   }
  }
 },
 "nbformat": 4,
 "nbformat_minor": 5
}
