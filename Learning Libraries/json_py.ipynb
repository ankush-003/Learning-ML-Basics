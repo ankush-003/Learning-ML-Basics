{
 "cells": [
  {
   "cell_type": "code",
   "execution_count": 1,
   "metadata": {},
   "outputs": [],
   "source": [
    "import json"
   ]
  },
  {
   "cell_type": "markdown",
   "metadata": {},
   "source": [
    "## JSON Rules:\n",
    "- use double quotes for keys and strings\n",
    "- use single quotes for values\n",
    "- it is a dictionary"
   ]
  },
  {
   "cell_type": "code",
   "execution_count": 2,
   "metadata": {},
   "outputs": [
    {
     "data": {
      "text/plain": [
       "{'a': 1, 'b': 2, 'c': 3, 'd': 4, 'e': 5}"
      ]
     },
     "execution_count": 2,
     "metadata": {},
     "output_type": "execute_result"
    }
   ],
   "source": [
    "\n",
    "json_data = '{\"a\":1,\"b\":2,\"c\":3,\"d\":4,\"e\":5}'\n",
    "# json load is used to convert json data to python data\n",
    "x = json.loads(json_data)\n",
    "x"
   ]
  },
  {
   "cell_type": "code",
   "execution_count": 3,
   "metadata": {},
   "outputs": [
    {
     "name": "stdout",
     "output_type": "stream",
     "text": [
      "a: 1, type: <class 'int'>\n"
     ]
    }
   ],
   "source": [
    "print(\"a: {}, type: {}\".format(x['a'],type(x['a'])))"
   ]
  },
  {
   "cell_type": "code",
   "execution_count": 4,
   "metadata": {},
   "outputs": [
    {
     "data": {
      "text/plain": [
       "{'name': 'INDIA',\n",
       " 'Languages_spoken': [{'names': ['Hindi', 'English', 'Bengali', 'Telugu']}]}"
      ]
     },
     "execution_count": 4,
     "metadata": {},
     "output_type": "execute_result"
    }
   ],
   "source": [
    "json_data2 = \"\"\"\n",
    "{\n",
    "    \"name\": \"INDIA\",\n",
    "    \"Languages_spoken\": [\n",
    "        {\n",
    "            \"names\": [\"Hindi\", \"English\", \"Bengali\", \"Telugu\"]\n",
    "        }\n",
    "    ]\n",
    "}\n",
    "\"\"\"\n",
    "y = json.loads(json_data2)\n",
    "y"
   ]
  },
  {
   "cell_type": "code",
   "execution_count": 5,
   "metadata": {},
   "outputs": [
    {
     "name": "stdout",
     "output_type": "stream",
     "text": [
      "{\"name\": \"INDIA\", \"Languages_spoken\": [{\"names\": [\"Hindi\", \"English\", \"Bengali\", \"Telugu\"]}]}"
     ]
    }
   ],
   "source": [
    "with open('data.json','w') as f:\n",
    "    json.dump(y,f)\n",
    "!cat data.json    "
   ]
  }
 ],
 "metadata": {
  "kernelspec": {
   "display_name": "Python 3.10.7 64-bit",
   "language": "python",
   "name": "python3"
  },
  "language_info": {
   "codemirror_mode": {
    "name": "ipython",
    "version": 3
   },
   "file_extension": ".py",
   "mimetype": "text/x-python",
   "name": "python",
   "nbconvert_exporter": "python",
   "pygments_lexer": "ipython3",
   "version": "3.10.7"
  },
  "orig_nbformat": 4,
  "vscode": {
   "interpreter": {
    "hash": "916dbcbb3f70747c44a77c7bcd40155683ae19c65e1c03b4aa3499c5328201f1"
   }
  }
 },
 "nbformat": 4,
 "nbformat_minor": 2
}
