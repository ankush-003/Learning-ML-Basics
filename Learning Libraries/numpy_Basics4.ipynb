{
 "cells": [
  {
   "cell_type": "code",
   "execution_count": 1,
   "metadata": {},
   "outputs": [],
   "source": [
    "import numpy as np"
   ]
  },
  {
   "cell_type": "code",
   "execution_count": 2,
   "metadata": {},
   "outputs": [
    {
     "data": {
      "text/plain": [
       "array([0, 1, 2, 3, 4, 5])"
      ]
     },
     "execution_count": 2,
     "metadata": {},
     "output_type": "execute_result"
    }
   ],
   "source": [
    "a = np.arange(6)\n",
    "a"
   ]
  },
  {
   "cell_type": "code",
   "execution_count": 3,
   "metadata": {},
   "outputs": [
    {
     "data": {
      "text/plain": [
       "(18,)"
      ]
     },
     "execution_count": 3,
     "metadata": {},
     "output_type": "execute_result"
    }
   ],
   "source": [
    "b = np.array([1,2,3,4,546,3,65,785,42,54,54,2,3,5,4,345,53,23,])\n",
    "b.shape"
   ]
  },
  {
   "cell_type": "code",
   "execution_count": 4,
   "metadata": {},
   "outputs": [
    {
     "data": {
      "text/plain": [
       "array([  1,   2,   3,   4, 546,   3,  65, 785,  42,  54,  54,   2,   3,\n",
       "         5,   4, 345,  53,  23])"
      ]
     },
     "execution_count": 4,
     "metadata": {},
     "output_type": "execute_result"
    }
   ],
   "source": [
    "# b = b.reshape(6,3) # 6 rows and 3 columns\n",
    "# b\n",
    "# b.reshape(6,3)\n",
    "b"
   ]
  },
  {
   "cell_type": "code",
   "execution_count": 5,
   "metadata": {},
   "outputs": [
    {
     "name": "stdout",
     "output_type": "stream",
     "text": [
      "[ 0  1 11  2  5 12  3 14 13 17  8 16 10  9  6 15  4  7]\n",
      "index of smallest element and value: 0,1\n",
      "index of largest element and value: 7,785\n"
     ]
    }
   ],
   "source": [
    "# np.argsort returns the indices that would sort an array\n",
    "print(np.argsort(b))\n",
    "print(\"index of smallest element and value: {},{}\".format(np.argmin(b),b[np.argmin(b)]))\n",
    "print(\"index of largest element and value: {},{}\".format(np.argmax(b),b[np.argmax(b)]))"
   ]
  },
  {
   "cell_type": "code",
   "execution_count": 15,
   "metadata": {},
   "outputs": [
    {
     "name": "stdout",
     "output_type": "stream",
     "text": [
      "[[  1   2   3]\n",
      " [  4 546   3]\n",
      " [ 65 785  42]\n",
      " [ 54  54   2]\n",
      " [  3   5   4]\n",
      " [345  53  23]]\n",
      "[[0 0 3]\n",
      " [4 4 0]\n",
      " [1 5 1]\n",
      " [3 3 4]\n",
      " [2 1 5]\n",
      " [5 2 2]]\n",
      "\n",
      "[[0 1 2]\n",
      " [2 0 1]\n",
      " [2 0 1]\n",
      " [2 0 1]\n",
      " [0 2 1]\n",
      " [2 1 0]]\n"
     ]
    }
   ],
   "source": [
    "b = b.reshape(6,3)\n",
    "print(b)\n",
    "print(np.argsort(b,axis=0),np.argsort(b,axis=1),sep='\\n\\n')"
   ]
  },
  {
   "cell_type": "code",
   "execution_count": null,
   "metadata": {},
   "outputs": [],
   "source": []
  }
 ],
 "metadata": {
  "kernelspec": {
   "display_name": "Python 3.10.7 64-bit",
   "language": "python",
   "name": "python3"
  },
  "language_info": {
   "codemirror_mode": {
    "name": "ipython",
    "version": 3
   },
   "file_extension": ".py",
   "mimetype": "text/x-python",
   "name": "python",
   "nbconvert_exporter": "python",
   "pygments_lexer": "ipython3",
   "version": "3.10.7"
  },
  "orig_nbformat": 4,
  "vscode": {
   "interpreter": {
    "hash": "916dbcbb3f70747c44a77c7bcd40155683ae19c65e1c03b4aa3499c5328201f1"
   }
  }
 },
 "nbformat": 4,
 "nbformat_minor": 2
}
