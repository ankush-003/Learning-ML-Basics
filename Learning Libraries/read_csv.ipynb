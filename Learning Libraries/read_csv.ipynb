{
 "cells": [
  {
   "cell_type": "code",
   "execution_count": 2,
   "metadata": {},
   "outputs": [
    {
     "name": "stdout",
     "output_type": "stream",
     "text": [
      "60\n"
     ]
    }
   ],
   "source": [
    "import pandas as pd\n",
    "print(pd.options.display.max_rows) "
   ]
  },
  {
   "cell_type": "code",
   "execution_count": 3,
   "metadata": {},
   "outputs": [
    {
     "data": {
      "text/html": [
       "<div>\n",
       "<style scoped>\n",
       "    .dataframe tbody tr th:only-of-type {\n",
       "        vertical-align: middle;\n",
       "    }\n",
       "\n",
       "    .dataframe tbody tr th {\n",
       "        vertical-align: top;\n",
       "    }\n",
       "\n",
       "    .dataframe thead th {\n",
       "        text-align: right;\n",
       "    }\n",
       "</style>\n",
       "<table border=\"1\" class=\"dataframe\">\n",
       "  <thead>\n",
       "    <tr style=\"text-align: right;\">\n",
       "      <th></th>\n",
       "      <th>SYMBOL</th>\n",
       "      <th>SERIES</th>\n",
       "      <th>DATE</th>\n",
       "      <th>PREV_CLOSE</th>\n",
       "      <th>OPEN_PRICE</th>\n",
       "      <th>HIGH_PRICE</th>\n",
       "      <th>LOW_PRICE</th>\n",
       "      <th>LAST_PRICE</th>\n",
       "      <th>CLOSE_PRICE</th>\n",
       "      <th>AVG_PRICE</th>\n",
       "      <th>TTL_TRD_QNTY</th>\n",
       "      <th>TURNOVER_LACS</th>\n",
       "      <th>NO_OF_TRADES</th>\n",
       "      <th>DELIV_QTY</th>\n",
       "      <th>DELIV_PER</th>\n",
       "    </tr>\n",
       "  </thead>\n",
       "  <tbody>\n",
       "    <tr>\n",
       "      <th>0</th>\n",
       "      <td>20MICRONS</td>\n",
       "      <td>EQ</td>\n",
       "      <td>04-Nov-2022</td>\n",
       "      <td>88.40</td>\n",
       "      <td>88.4</td>\n",
       "      <td>93</td>\n",
       "      <td>88.4</td>\n",
       "      <td>91.50</td>\n",
       "      <td>91.40</td>\n",
       "      <td>91.46</td>\n",
       "      <td>196800.0</td>\n",
       "      <td>179.99</td>\n",
       "      <td>4143.0</td>\n",
       "      <td>95952</td>\n",
       "      <td>48.76</td>\n",
       "    </tr>\n",
       "    <tr>\n",
       "      <th>1</th>\n",
       "      <td>21STCENMGM</td>\n",
       "      <td>EQ</td>\n",
       "      <td>04-Nov-2022</td>\n",
       "      <td>23.05</td>\n",
       "      <td>23.0</td>\n",
       "      <td>23.3</td>\n",
       "      <td>22.75</td>\n",
       "      <td>22.75</td>\n",
       "      <td>22.75</td>\n",
       "      <td>22.95</td>\n",
       "      <td>6205.0</td>\n",
       "      <td>1.42</td>\n",
       "      <td>70.0</td>\n",
       "      <td>3926</td>\n",
       "      <td>63.27</td>\n",
       "    </tr>\n",
       "    <tr>\n",
       "      <th>2</th>\n",
       "      <td>3IINFOLTD</td>\n",
       "      <td>EQ</td>\n",
       "      <td>04-Nov-2022</td>\n",
       "      <td>44.15</td>\n",
       "      <td>44.4</td>\n",
       "      <td>44.5</td>\n",
       "      <td>43.5</td>\n",
       "      <td>43.75</td>\n",
       "      <td>43.90</td>\n",
       "      <td>43.91</td>\n",
       "      <td>352627.0</td>\n",
       "      <td>154.84</td>\n",
       "      <td>2757.0</td>\n",
       "      <td>224858</td>\n",
       "      <td>63.77</td>\n",
       "    </tr>\n",
       "    <tr>\n",
       "      <th>3</th>\n",
       "      <td>3MINDIA</td>\n",
       "      <td>EQ</td>\n",
       "      <td>04-Nov-2022</td>\n",
       "      <td>23071.50</td>\n",
       "      <td>23178.0</td>\n",
       "      <td>23358.95</td>\n",
       "      <td>22801</td>\n",
       "      <td>22851.00</td>\n",
       "      <td>22871.95</td>\n",
       "      <td>22969.36</td>\n",
       "      <td>1318.0</td>\n",
       "      <td>302.74</td>\n",
       "      <td>642.0</td>\n",
       "      <td>809</td>\n",
       "      <td>61.38</td>\n",
       "    </tr>\n",
       "    <tr>\n",
       "      <th>4</th>\n",
       "      <td>3PLAND</td>\n",
       "      <td>EQ</td>\n",
       "      <td>04-Nov-2022</td>\n",
       "      <td>18.45</td>\n",
       "      <td>17.8</td>\n",
       "      <td>18.8</td>\n",
       "      <td>17.75</td>\n",
       "      <td>18.60</td>\n",
       "      <td>18.20</td>\n",
       "      <td>18.19</td>\n",
       "      <td>5056.0</td>\n",
       "      <td>0.92</td>\n",
       "      <td>123.0</td>\n",
       "      <td>2289</td>\n",
       "      <td>45.27</td>\n",
       "    </tr>\n",
       "  </tbody>\n",
       "</table>\n",
       "</div>"
      ],
      "text/plain": [
       "       SYMBOL  SERIES         DATE   PREV_CLOSE  OPEN_PRICE HIGH_PRICE  \\\n",
       "0   20MICRONS      EQ   04-Nov-2022        88.40        88.4         93   \n",
       "1  21STCENMGM      EQ   04-Nov-2022        23.05        23.0       23.3   \n",
       "2   3IINFOLTD      EQ   04-Nov-2022        44.15        44.4       44.5   \n",
       "3     3MINDIA      EQ   04-Nov-2022     23071.50     23178.0   23358.95   \n",
       "4      3PLAND      EQ   04-Nov-2022        18.45        17.8       18.8   \n",
       "\n",
       "  LOW_PRICE  LAST_PRICE  CLOSE_PRICE  AVG_PRICE  TTL_TRD_QNTY  TURNOVER_LACS  \\\n",
       "0      88.4       91.50        91.40      91.46      196800.0         179.99   \n",
       "1     22.75       22.75        22.75      22.95        6205.0           1.42   \n",
       "2      43.5       43.75        43.90      43.91      352627.0         154.84   \n",
       "3     22801    22851.00     22871.95   22969.36        1318.0         302.74   \n",
       "4     17.75       18.60        18.20      18.19        5056.0           0.92   \n",
       "\n",
       "   NO_OF_TRADES DELIV_QTY DELIV_PER  \n",
       "0        4143.0     95952     48.76  \n",
       "1          70.0      3926     63.27  \n",
       "2        2757.0    224858     63.77  \n",
       "3         642.0       809     61.38  \n",
       "4         123.0      2289     45.27  "
      ]
     },
     "execution_count": 3,
     "metadata": {},
     "output_type": "execute_result"
    }
   ],
   "source": [
    "df = pd.read_csv('./NSE_Data .csv')\n",
    "df.head()"
   ]
  },
  {
   "cell_type": "code",
   "execution_count": 4,
   "metadata": {},
   "outputs": [
    {
     "name": "stdout",
     "output_type": "stream",
     "text": [
      "object float64 object\n"
     ]
    }
   ],
   "source": [
    "print(df['SYMBOL'].dtype,df[' PREV_CLOSE'].dtype,df[' SERIES'].dtype)"
   ]
  },
  {
   "cell_type": "code",
   "execution_count": 5,
   "metadata": {},
   "outputs": [
    {
     "name": "stdout",
     "output_type": "stream",
     "text": [
      "0        EQ\n",
      "1        EQ\n",
      "2        EQ\n",
      "3        EQ\n",
      "4        EQ\n",
      "       ... \n",
      "1401     EQ\n",
      "1402     EQ\n",
      "1403     EQ\n",
      "1404     EQ\n",
      "1405     EQ\n",
      "Name:  SERIES, Length: 1406, dtype: category\n",
      "Categories (42, object): [' BE', ' BZ', ' E1', ' EQ', ..., ' Y3', ' Y5', ' Y7', ' YG']\n"
     ]
    }
   ],
   "source": [
    "# Category is a pandas data type that is used to store data that is in categorical format.\n",
    "# The categorical data type is useful in the following cases −\n",
    "# A string variable consisting of only a few different values. Converting such a string variable to a categorical variable will save some memory.\n",
    "# The lexical order of a variable is not the same as the logical order (“one”, “two”, “three”). By converting to a categorical and specifying an order on the categories, sorting and min/max will use the logical order instead of the lexical order.\n",
    "print(df[' SERIES'].astype('category'))"
   ]
  }
 ],
 "metadata": {
  "kernelspec": {
   "display_name": "Python 3.10.7 64-bit",
   "language": "python",
   "name": "python3"
  },
  "language_info": {
   "codemirror_mode": {
    "name": "ipython",
    "version": 3
   },
   "file_extension": ".py",
   "mimetype": "text/x-python",
   "name": "python",
   "nbconvert_exporter": "python",
   "pygments_lexer": "ipython3",
   "version": "3.10.7"
  },
  "orig_nbformat": 4,
  "vscode": {
   "interpreter": {
    "hash": "916dbcbb3f70747c44a77c7bcd40155683ae19c65e1c03b4aa3499c5328201f1"
   }
  }
 },
 "nbformat": 4,
 "nbformat_minor": 2
}
