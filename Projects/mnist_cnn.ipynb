{
  "cells": [
    {
      "cell_type": "markdown",
      "metadata": {
        "id": "2UMDIR3DIotS"
      },
      "source": [
        "# **CNN Model for [MNIST dataset:](https://www.tensorflow.org/datasets/catalog/mnist)**\n",
        "\n",
        "- MNIST set is a large collection of handwritten digits. It is a very popular dataset in the field of image processing. It is often used for benchmarking machine learning algorithms.\n",
        "- MNIST is short for Modified National Institute of Standards and Technology database.\n",
        "- MNIST contains a collection of 70,000, 28 x 28 images of handwritten digits from 0 to 9."
      ]
    },
    {
      "cell_type": "code",
      "execution_count": null,
      "metadata": {
        "id": "CU0jxc2lOgBW"
      },
      "outputs": [],
      "source": [
        "# importing libraries\n",
        "import keras\n",
        "from keras.datasets import mnist \n",
        "from keras.layers import Dense, Activation, Flatten, Conv2D, MaxPooling2D\n",
        "from keras.models import Sequential\n",
        "from keras.utils import to_categorical\n",
        "import numpy as np\n",
        "import matplotlib.pyplot as plt"
      ]
    },
    {
      "cell_type": "code",
      "execution_count": null,
      "metadata": {
        "colab": {
          "base_uri": "https://localhost:8080/"
        },
        "id": "8HBL2MM3KYwL",
        "outputId": "559641d6-475a-49bf-d593-78936023b426"
      },
      "outputs": [
        {
          "output_type": "stream",
          "name": "stdout",
          "text": [
            "Downloading data from https://storage.googleapis.com/tensorflow/tf-keras-datasets/mnist.npz\n",
            "11490434/11490434 [==============================] - 0s 0us/step\n",
            "X_train: (60000, 28, 28)\n",
            "Y_train: (60000,)\n",
            "X_test:  (10000, 28, 28)\n",
            "Y_test:  (10000,)\n"
          ]
        }
      ],
      "source": [
        "# Load pre-shuffled MNIST data into train and test sets \n",
        "(x_train, y_train), (x_test, y_test) = mnist.load_data()\n",
        "print('X_train: ' + str(x_train.shape))\n",
        "print('Y_train: ' + str(y_train.shape))\n",
        "print('X_test:  '  + str(x_test.shape))\n",
        "print('Y_test:  '  + str(y_test.shape))"
      ]
    },
    {
      "cell_type": "markdown",
      "metadata": {
        "id": "Mtko8UOJMNEj"
      },
      "source": [
        "## **Data Format**:\n",
        "- We can see that there are 60k images in the training set and 10k images in the testing set.\n",
        "\n",
        "- The dimension of our training vector is (60000, 28, 28), this is because there are 60,000 grayscale images with the dimension 28X28."
      ]
    },
    {
      "cell_type": "code",
      "execution_count": null,
      "metadata": {
        "colab": {
          "base_uri": "https://localhost:8080/",
          "height": 551
        },
        "id": "qThf1WWQJ_Ov",
        "outputId": "43b3c21d-3775-46a2-a256-164ec6f601ae"
      },
      "outputs": [
        {
          "output_type": "execute_result",
          "data": {
            "text/plain": [
              "<Figure size 432x288 with 6 Axes>"
            ],
            "image/png": "[encoded data removed]"
          },
          "metadata": {},
          "execution_count": 3
        },
        {
          "output_type": "display_data",
          "data": {
            "text/plain": [
              "<Figure size 432x288 with 6 Axes>"
            ],
            "image/png": "[encoded data removed]"
          },
          "metadata": {}
        }
      ],
      "source": [
        "# Plotting the MNIST dataset using matplotlib\n",
        "%matplotlib inline\n",
        "fig = plt.figure()\n",
        "for i in range(6):\n",
        "  plt.subplot(2,3,i+1)\n",
        "  plt.tight_layout()\n",
        "  plt.imshow(x_train[i].reshape(28,28), cmap='gray', interpolation='none')\n",
        "  plt.title(\"Digit: {}\".format(y_train[i]))\n",
        "  plt.xticks([])\n",
        "  plt.yticks([])\n",
        "fig"
      ]
    },
    {
      "cell_type": "markdown",
      "metadata": {
        "id": "sEsLtVseQu6K"
      },
      "source": [
        "## **Preprocessing Data**:\n",
        "- We can normalize the x_train and x_test data by dividing it by 255.\n",
        "- There are two ways to represent the image data as a three dimensional array. The first involves having the channels as the last or third dimension in the array. This is called “channels last“. The second involves having the channels as the first dimension in the array, called “channels first“.\n",
        "\n",
        "    - Channels Last. Image data is represented in a three-dimensional array where the last channel represents the color channels, e.g. [rows][cols][channels].\n",
        "    - Channels First. Image data is represented in a three-dimensional array where the first channel represents the color channels, e.g. [channels][rows][cols].\n",
        "- We set channels to 1 for grayscale images as grayscale simplifies the algorithm and reduces computational requirements."
      ]
    },
    {
      "cell_type": "code",
      "execution_count": null,
      "metadata": {
        "id": "hV4nP1UgWNSd"
      },
      "outputs": [],
      "source": [
        "x_train = x_train.reshape(-1, 28,28, 1)\n",
        "x_test = x_test.reshape(-1, 28,28, 1)\n",
        "\n",
        "x_train = x_train.astype('float32')\n",
        "x_test = x_test.astype('float32')\n",
        "x_train = x_train / 255\n",
        "x_test = x_test / 255"
      ]
    },
    {
      "cell_type": "markdown",
      "metadata": {
        "id": "obYLJd0qZfUt"
      },
      "source": [
        "#### Since the output of the model can comprise any of the digits between 0 to 9. so, we need 10 classes in output. To make output for 10 classes, we use `keras.utils.to_categorical` function, which will provide the 10 columns. Out of these 10 columns, only one value will be one and the rest 9 will be zero and this one value of the output will denote the class of the digit.\n",
        "> ### For example, 3 is represented as [0, 0, 0, 1, 0, 0, 0, 0, 0, 0]."
      ]
    },
    {
      "cell_type": "code",
      "execution_count": null,
      "metadata": {
        "id": "DhDNbL4wWQAH"
      },
      "outputs": [],
      "source": [
        "y_train_one_hot = to_categorical(y_train)\n",
        "y_test_one_hot = to_categorical(y_test)"
      ]
    },
    {
      "cell_type": "markdown",
      "source": [
        "## **Creating CNN Model**\n",
        "- Our convolutional layers will have 64 neurons (feature maps) and a 3x3 feature detector. In turn, our pooling layers will use max pooling with a 2x2 matrix. \n",
        "- Convolutional neural networks are almost always proceeded by an artificial neural network. In Keras, a Dense layer implements the operation output = activation(dot(input, weight) + bias). The input to our artificial neural network must be in one dimension therefore we flatten it beforehand."
      ],
      "metadata": {
        "id": "NgXNW9vtOsQJ"
      }
    },
    {
      "cell_type": "code",
      "execution_count": null,
      "metadata": {
        "id": "_rFj_vY3aFck"
      },
      "outputs": [],
      "source": [
        "\n",
        "model = Sequential()\n",
        "\n",
        "model.add(Conv2D(64, (3,3), input_shape=(28, 28, 1)))\n",
        "model.add(Activation('relu'))\n",
        "model.add(MaxPooling2D(pool_size=(2,2)))\n",
        "\n",
        "model.add(Conv2D(64, (3,3)))\n",
        "model.add(Activation('relu'))\n",
        "model.add(MaxPooling2D(pool_size=(2,2)))\n",
        "\n",
        "model.add(Flatten())\n",
        "model.add(Dense(64))\n",
        "\n",
        "model.add(Dense(10))\n",
        "model.add(Activation('softmax'))\n",
        "model.compile(loss=keras.losses.categorical_crossentropy, optimizer=keras.optimizers.Adam(),metrics=['accuracy'])"
      ]
    },
    {
      "cell_type": "code",
      "execution_count": null,
      "metadata": {
        "id": "s1jw-BG-bBv0",
        "colab": {
          "base_uri": "https://localhost:8080/"
        },
        "outputId": "162c7be2-6398-48ad-aa16-df664f3eb251"
      },
      "outputs": [
        {
          "output_type": "stream",
          "name": "stdout",
          "text": [
            "Epoch 1/10\n",
            "938/938 [==============================] - 101s 106ms/step - loss: 0.1436 - accuracy: 0.9568\n",
            "Epoch 2/10\n",
            "938/938 [==============================] - 83s 89ms/step - loss: 0.0495 - accuracy: 0.9849\n",
            "Epoch 3/10\n",
            "938/938 [==============================] - 81s 87ms/step - loss: 0.0374 - accuracy: 0.9879\n",
            "Epoch 4/10\n",
            "938/938 [==============================] - 82s 88ms/step - loss: 0.0286 - accuracy: 0.9909\n",
            "Epoch 5/10\n",
            "938/938 [==============================] - 81s 86ms/step - loss: 0.0230 - accuracy: 0.9927\n",
            "Epoch 6/10\n",
            "938/938 [==============================] - 81s 86ms/step - loss: 0.0180 - accuracy: 0.9940\n",
            "Epoch 7/10\n",
            "938/938 [==============================] - 79s 84ms/step - loss: 0.0156 - accuracy: 0.9952\n",
            "Epoch 8/10\n",
            "938/938 [==============================] - 80s 85ms/step - loss: 0.0118 - accuracy: 0.9960\n",
            "Epoch 9/10\n",
            "938/938 [==============================] - 81s 86ms/step - loss: 0.0113 - accuracy: 0.9962\n",
            "Epoch 10/10\n",
            "938/938 [==============================] - 80s 85ms/step - loss: 0.0092 - accuracy: 0.9969\n"
          ]
        }
      ],
      "source": [
        "model_log = model.fit(x_train, y_train_one_hot, batch_size=64, epochs=10)"
      ]
    },
    {
      "cell_type": "code",
      "execution_count": null,
      "metadata": {
        "id": "v5Kgk8dJbSgj",
        "colab": {
          "base_uri": "https://localhost:8080/"
        },
        "outputId": "26ae71fa-c993-487e-8afc-d2c2f5fa678b"
      },
      "outputs": [
        {
          "output_type": "stream",
          "name": "stdout",
          "text": [
            "313/313 [==============================] - 5s 16ms/step - loss: 0.0345 - accuracy: 0.9913\n",
            "Test loss 0.034533482044935226\n",
            "Test accuracy 0.9912999868392944\n"
          ]
        }
      ],
      "source": [
        "# Test Loss and Test Accuracy\n",
        "test_loss, test_acc = model.evaluate(x_test, y_test_one_hot)\n",
        "print('Test loss', test_loss)\n",
        "print('Test accuracy', test_acc)\n",
        "# plotting the metrics\n",
        "# fig = plt.figure()\n",
        "# plt.subplot(2,1,1)\n",
        "# plt.plot(model_log.history['acc'])\n",
        "# plt.plot(model_log.history['val_acc'])\n",
        "# plt.title('model accuracy')\n",
        "# plt.ylabel('accuracy')\n",
        "# plt.xlabel('epoch')\n",
        "# plt.legend(['train', 'test'], loc='lower right')\n",
        "# plt.subplot(2,1,2)\n",
        "# plt.plot(model_log.history['loss'])\n",
        "# plt.plot(model_log.history['val_loss'])\n",
        "# plt.title('model loss')\n",
        "# plt.ylabel('loss')\n",
        "# plt.xlabel('epoch')\n",
        "# plt.legend(['train', 'test'], loc='upper right')\n",
        "# plt.tight_layout()\n",
        "# fig"
      ]
    },
    {
      "cell_type": "code",
      "execution_count": null,
      "metadata": {
        "id": "jJWcQmwZcuKJ"
      },
      "outputs": [],
      "source": [
        "#Predicting few of the test images\n",
        "predictions = model.predict(x_test)\n",
        "fig2 = plt.figure()\n",
        "for i in range(6):\n",
        "  plt.subplot(2,3,i+1)\n",
        "  plt.tight_layout()\n",
        "  plt.imshow(x_test[i].reshape(28,28), cmap='gray', interpolation='none')\n",
        "  plt.title(\"Predicted Digit: {}\".format(np.argmax(np.round(predictions[i]))))\n",
        "  plt.xticks([])\n",
        "  plt.yticks([])\n",
        "fig2    "
      ]
    },
    {
      "cell_type": "code",
      "source": [
        "# Creating Confusion Matrix\n",
        "from sklearn.metrics import confusion_matrix\n",
        "confusion = confusion_matrix(y_test, np.argmax(predictions,axis=1))\n",
        "\n",
        "# print(confusion)\n",
        "\n",
        "import seaborn as sns\n",
        "sns.heatmap(confusion, annot=True, fmt='')"
      ],
      "metadata": {
        "id": "vfrwUqLuEXIU"
      },
      "execution_count": null,
      "outputs": []
    }
  ],
  "metadata": {
    "colab": {
      "provenance": [],
      "collapsed_sections": []
    },
    "kernelspec": {
      "display_name": "Python 3",
      "name": "python3"
    },
    "language_info": {
      "name": "python"
    }
  },
  "nbformat": 4,
  "nbformat_minor": 0
}