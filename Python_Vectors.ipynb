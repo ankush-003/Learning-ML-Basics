{
  "nbformat": 4,
  "nbformat_minor": 0,
  "metadata": {
    "colab": {
      "provenance": [],
      "authorship_tag": "ABX9TyMrXf1HOV0IWkYEAFM4mLLJ",
      "include_colab_link": true
    },
    "kernelspec": {
      "name": "python3",
      "display_name": "Python 3"
    },
    "language_info": {
      "name": "python"
    }
  },
  "cells": [
    {
      "cell_type": "markdown",
      "metadata": {
        "id": "view-in-github",
        "colab_type": "text"
      },
      "source": [
        "<a href=\"https://colab.research.google.com/github/ankush-003/Learning-ML-Basics/blob/main/Python_Vectors.ipynb\" target=\"_parent\"><img src=\"https://colab.research.google.com/assets/colab-badge.svg\" alt=\"Open In Colab\"/></a>"
      ]
    },
    {
      "cell_type": "code",
      "execution_count": null,
      "metadata": {
        "id": "B5yVi0CHmXJf"
      },
      "outputs": [],
      "source": [
        "import numpy as np\n",
        "a = np.random.randn(5)"
      ]
    },
    {
      "cell_type": "code",
      "source": [
        "a"
      ],
      "metadata": {
        "colab": {
          "base_uri": "https://localhost:8080/"
        },
        "id": "1cOSU8xVmitE",
        "outputId": "a20815f3-e19a-4ead-d0ea-9ff8c6e4648f"
      },
      "execution_count": null,
      "outputs": [
        {
          "output_type": "execute_result",
          "data": {
            "text/plain": [
              "array([ 0.48571843,  0.11472766,  0.33659291,  0.95187777, -0.48070917])"
            ]
          },
          "metadata": {},
          "execution_count": 9
        }
      ]
    },
    {
      "cell_type": "code",
      "source": [
        "# rank 1 array\n",
        "a.shape"
      ],
      "metadata": {
        "colab": {
          "base_uri": "https://localhost:8080/"
        },
        "id": "r5IruQn4mjTS",
        "outputId": "8b92d19f-88c4-4265-b604-35c7fed24a21"
      },
      "execution_count": null,
      "outputs": [
        {
          "output_type": "execute_result",
          "data": {
            "text/plain": [
              "(5,)"
            ]
          },
          "metadata": {},
          "execution_count": 10
        }
      ]
    },
    {
      "cell_type": "code",
      "source": [
        "a.T"
      ],
      "metadata": {
        "colab": {
          "base_uri": "https://localhost:8080/"
        },
        "id": "B3dOt-ohnHn0",
        "outputId": "4f128c55-e216-4fee-d0c6-c8055d95dd22"
      },
      "execution_count": null,
      "outputs": [
        {
          "output_type": "execute_result",
          "data": {
            "text/plain": [
              "array([ 0.48571843,  0.11472766,  0.33659291,  0.95187777, -0.48070917])"
            ]
          },
          "metadata": {},
          "execution_count": 11
        }
      ]
    },
    {
      "cell_type": "code",
      "source": [
        "np.dot(a,a.T)"
      ],
      "metadata": {
        "colab": {
          "base_uri": "https://localhost:8080/"
        },
        "id": "bH5EkJLNniDn",
        "outputId": "e12763cc-dd4f-47e7-a690-0a061415ea0b"
      },
      "execution_count": null,
      "outputs": [
        {
          "output_type": "execute_result",
          "data": {
            "text/plain": [
              "7.743386586823526"
            ]
          },
          "metadata": {},
          "execution_count": 17
        }
      ]
    },
    {
      "cell_type": "code",
      "source": [
        "a = np.random.randn(5,1)\n",
        "print(a)"
      ],
      "metadata": {
        "colab": {
          "base_uri": "https://localhost:8080/"
        },
        "id": "JDyct-kvmqhn",
        "outputId": "bcea07e8-5d77-4730-f233-2644e33d4c23"
      },
      "execution_count": null,
      "outputs": [
        {
          "output_type": "stream",
          "name": "stdout",
          "text": [
            "[[ 0.3181546 ]\n",
            " [-0.29215591]\n",
            " [ 0.99307883]\n",
            " [-0.04554812]\n",
            " [ 0.07829376]]\n"
          ]
        }
      ]
    },
    {
      "cell_type": "code",
      "source": [
        "a.shape"
      ],
      "metadata": {
        "colab": {
          "base_uri": "https://localhost:8080/"
        },
        "id": "2Rilenfym_Ja",
        "outputId": "b937f084-9917-4c45-d6e2-7f804ed03751"
      },
      "execution_count": null,
      "outputs": [
        {
          "output_type": "execute_result",
          "data": {
            "text/plain": [
              "(5, 1)"
            ]
          },
          "metadata": {},
          "execution_count": 13
        }
      ]
    },
    {
      "cell_type": "code",
      "source": [
        "a.T"
      ],
      "metadata": {
        "colab": {
          "base_uri": "https://localhost:8080/"
        },
        "id": "xn48dAsRnRR8",
        "outputId": "97c40581-6a39-447f-d333-2ddffaf28873"
      },
      "execution_count": null,
      "outputs": [
        {
          "output_type": "execute_result",
          "data": {
            "text/plain": [
              "array([[ 0.3181546 , -0.29215591,  0.99307883, -0.04554812,  0.07829376]])"
            ]
          },
          "metadata": {},
          "execution_count": 14
        }
      ]
    },
    {
      "cell_type": "code",
      "source": [
        "#outer product\n",
        "print(np.dot(a,a.T))"
      ],
      "metadata": {
        "colab": {
          "base_uri": "https://localhost:8080/"
        },
        "id": "kU5dfn3enVCJ",
        "outputId": "78e7d958-9183-4ec3-ccce-ca3a33cfb502"
      },
      "execution_count": null,
      "outputs": [
        {
          "output_type": "stream",
          "name": "stdout",
          "text": [
            "[[ 0.10122235 -0.09295075  0.3159526  -0.01449134  0.02490952]\n",
            " [-0.09295075  0.08535508 -0.29013385  0.01330715 -0.02287398]\n",
            " [ 0.3159526  -0.29013385  0.98620556 -0.04523287  0.07775187]\n",
            " [-0.01449134  0.01330715 -0.04523287  0.00207463 -0.00356613]\n",
            " [ 0.02490952 -0.02287398  0.07775187 -0.00356613  0.00612991]]\n"
          ]
        }
      ]
    },
    {
      "cell_type": "code",
      "source": [],
      "metadata": {
        "id": "8eSvBiFCneEI"
      },
      "execution_count": null,
      "outputs": []
    }
  ]
}