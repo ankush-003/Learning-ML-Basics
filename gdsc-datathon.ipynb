{
 "cells": [
  {
   "cell_type": "code",
   "execution_count": 1,
   "id": "9495e4f4",
   "metadata": {
    "_cell_guid": "b1076dfc-b9ad-4769-8c92-a6c4dae69d19",
    "_uuid": "8f2839f25d086af736a60e9eeb907d3b93b6e0e5",
    "execution": {
     "iopub.execute_input": "2023-04-07T09:21:18.971711Z",
     "iopub.status.busy": "2023-04-07T09:21:18.970732Z",
     "iopub.status.idle": "2023-04-07T09:21:18.987834Z",
     "shell.execute_reply": "2023-04-07T09:21:18.986157Z"
    },
    "papermill": {
     "duration": 0.025631,
     "end_time": "2023-04-07T09:21:18.991482",
     "exception": false,
     "start_time": "2023-04-07T09:21:18.965851",
     "status": "completed"
    },
    "tags": []
   },
   "outputs": [
    {
     "name": "stdout",
     "output_type": "stream",
     "text": [
      "/kaggle/input/gdsc-pesu-rr-datathon/train.csv\n",
      "/kaggle/input/gdsc-pesu-rr-datathon/test.csv\n",
      "/kaggle/input/gdsc-pesu-rr-datathon/sample_solution.csv\n"
     ]
    }
   ],
   "source": [
    "# This Python 3 environment comes with many helpful analytics libraries installed\n",
    "# It is defined by the kaggle/python Docker image: https://github.com/kaggle/docker-python\n",
    "# For example, here's several helpful packages to load\n",
    "\n",
    "import numpy as np # linear algebra\n",
    "import pandas as pd # data processing, CSV file I/O (e.g. pd.read_csv)\n",
    "\n",
    "# Input data files are available in the read-only \"../input/\" directory\n",
    "# For example, running this (by clicking run or pressing Shift+Enter) will list all files under the input directory\n",
    "\n",
    "import os\n",
    "for dirname, _, filenames in os.walk('/kaggle/input'):\n",
    "    for filename in filenames:\n",
    "        print(os.path.join(dirname, filename))\n",
    "\n",
    "# You can write up to 20GB to the current directory (/kaggle/working/) that gets preserved as output when you create a version using \"Save & Run All\" \n",
    "# You can also write temporary files to /kaggle/temp/, but they won't be saved outside of the current session"
   ]
  },
  {
   "cell_type": "code",
   "execution_count": 2,
   "id": "1e7a310d",
   "metadata": {
    "execution": {
     "iopub.execute_input": "2023-04-07T09:21:18.997713Z",
     "iopub.status.busy": "2023-04-07T09:21:18.997019Z",
     "iopub.status.idle": "2023-04-07T09:21:19.052456Z",
     "shell.execute_reply": "2023-04-07T09:21:19.051154Z"
    },
    "papermill": {
     "duration": 0.061098,
     "end_time": "2023-04-07T09:21:19.054803",
     "exception": false,
     "start_time": "2023-04-07T09:21:18.993705",
     "status": "completed"
    },
    "tags": []
   },
   "outputs": [
    {
     "data": {
      "text/html": [
       "<div>\n",
       "<style scoped>\n",
       "    .dataframe tbody tr th:only-of-type {\n",
       "        vertical-align: middle;\n",
       "    }\n",
       "\n",
       "    .dataframe tbody tr th {\n",
       "        vertical-align: top;\n",
       "    }\n",
       "\n",
       "    .dataframe thead th {\n",
       "        text-align: right;\n",
       "    }\n",
       "</style>\n",
       "<table border=\"1\" class=\"dataframe\">\n",
       "  <thead>\n",
       "    <tr style=\"text-align: right;\">\n",
       "      <th></th>\n",
       "      <th>ID</th>\n",
       "      <th>YEAR</th>\n",
       "      <th>T2M_RANGE</th>\n",
       "      <th>T2M_MAX</th>\n",
       "      <th>T2M_MIN</th>\n",
       "      <th>RH2M</th>\n",
       "      <th>PS</th>\n",
       "      <th>WS10M</th>\n",
       "      <th>QV2M</th>\n",
       "      <th>T2M</th>\n",
       "      <th>VACATION_RATE</th>\n",
       "    </tr>\n",
       "  </thead>\n",
       "  <tbody>\n",
       "    <tr>\n",
       "      <th>0</th>\n",
       "      <td>1</td>\n",
       "      <td>1982.0</td>\n",
       "      <td>-258.394286</td>\n",
       "      <td>27.582857</td>\n",
       "      <td>12.824286</td>\n",
       "      <td>71.080000</td>\n",
       "      <td>91.955714</td>\n",
       "      <td>3.695714</td>\n",
       "      <td>9.564286</td>\n",
       "      <td>18.707143</td>\n",
       "      <td>64.129614</td>\n",
       "    </tr>\n",
       "    <tr>\n",
       "      <th>1</th>\n",
       "      <td>2</td>\n",
       "      <td>1982.0</td>\n",
       "      <td>-258.795714</td>\n",
       "      <td>28.455714</td>\n",
       "      <td>14.098571</td>\n",
       "      <td>69.448571</td>\n",
       "      <td>91.900000</td>\n",
       "      <td>3.404286</td>\n",
       "      <td>10.124286</td>\n",
       "      <td>19.865714</td>\n",
       "      <td>42.625243</td>\n",
       "    </tr>\n",
       "    <tr>\n",
       "      <th>2</th>\n",
       "      <td>3</td>\n",
       "      <td>1982.0</td>\n",
       "      <td>-258.680000</td>\n",
       "      <td>28.175714</td>\n",
       "      <td>13.708571</td>\n",
       "      <td>66.217143</td>\n",
       "      <td>91.985714</td>\n",
       "      <td>4.125714</td>\n",
       "      <td>9.537143</td>\n",
       "      <td>19.915714</td>\n",
       "      <td>52.912020</td>\n",
       "    </tr>\n",
       "    <tr>\n",
       "      <th>3</th>\n",
       "      <td>4</td>\n",
       "      <td>1982.0</td>\n",
       "      <td>-258.800000</td>\n",
       "      <td>28.458571</td>\n",
       "      <td>14.110000</td>\n",
       "      <td>67.267143</td>\n",
       "      <td>92.038571</td>\n",
       "      <td>4.412857</td>\n",
       "      <td>10.080000</td>\n",
       "      <td>20.325714</td>\n",
       "      <td>39.419760</td>\n",
       "    </tr>\n",
       "    <tr>\n",
       "      <th>4</th>\n",
       "      <td>5</td>\n",
       "      <td>1982.0</td>\n",
       "      <td>-257.401429</td>\n",
       "      <td>30.037143</td>\n",
       "      <td>14.290000</td>\n",
       "      <td>61.527143</td>\n",
       "      <td>91.902857</td>\n",
       "      <td>3.227143</td>\n",
       "      <td>9.331429</td>\n",
       "      <td>21.081429</td>\n",
       "      <td>46.544332</td>\n",
       "    </tr>\n",
       "  </tbody>\n",
       "</table>\n",
       "</div>"
      ],
      "text/plain": [
       "   ID    YEAR   T2M_RANGE    T2M_MAX    T2M_MIN       RH2M         PS  \\\n",
       "0   1  1982.0 -258.394286  27.582857  12.824286  71.080000  91.955714   \n",
       "1   2  1982.0 -258.795714  28.455714  14.098571  69.448571  91.900000   \n",
       "2   3  1982.0 -258.680000  28.175714  13.708571  66.217143  91.985714   \n",
       "3   4  1982.0 -258.800000  28.458571  14.110000  67.267143  92.038571   \n",
       "4   5  1982.0 -257.401429  30.037143  14.290000  61.527143  91.902857   \n",
       "\n",
       "      WS10M       QV2M        T2M  VACATION_RATE  \n",
       "0  3.695714   9.564286  18.707143      64.129614  \n",
       "1  3.404286  10.124286  19.865714      42.625243  \n",
       "2  4.125714   9.537143  19.915714      52.912020  \n",
       "3  4.412857  10.080000  20.325714      39.419760  \n",
       "4  3.227143   9.331429  21.081429      46.544332  "
      ]
     },
     "execution_count": 2,
     "metadata": {},
     "output_type": "execute_result"
    }
   ],
   "source": [
    "df_train = pd.read_csv(\"/kaggle/input/gdsc-pesu-rr-datathon/train.csv\")\n",
    "df_train.head()"
   ]
  },
  {
   "cell_type": "code",
   "execution_count": null,
   "id": "8cc85d9b",
   "metadata": {
    "papermill": {
     "duration": 0.001828,
     "end_time": "2023-04-07T09:21:19.058990",
     "exception": false,
     "start_time": "2023-04-07T09:21:19.057162",
     "status": "completed"
    },
    "tags": []
   },
   "outputs": [],
   "source": []
  }
 ],
 "metadata": {
  "kernelspec": {
   "display_name": "Python 3",
   "language": "python",
   "name": "python3"
  },
  "language_info": {
   "codemirror_mode": {
    "name": "ipython",
    "version": 3
   },
   "file_extension": ".py",
   "mimetype": "text/x-python",
   "name": "python",
   "nbconvert_exporter": "python",
   "pygments_lexer": "ipython3",
   "version": "3.7.12"
  },
  "papermill": {
   "default_parameters": {},
   "duration": 10.903156,
   "end_time": "2023-04-07T09:21:19.682742",
   "environment_variables": {},
   "exception": null,
   "input_path": "__notebook__.ipynb",
   "output_path": "__notebook__.ipynb",
   "parameters": {},
   "start_time": "2023-04-07T09:21:08.779586",
   "version": "2.4.0"
  }
 },
 "nbformat": 4,
 "nbformat_minor": 5
}
